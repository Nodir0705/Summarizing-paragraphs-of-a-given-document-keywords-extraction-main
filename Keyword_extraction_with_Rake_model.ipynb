{
  "nbformat": 4,
  "nbformat_minor": 0,
  "metadata": {
    "colab": {
      "name": "Keyword_extraction_with_Rake_model_UPDATED.ipynb",
      "provenance": [],
      "include_colab_link": true
    },
    "kernelspec": {
      "name": "python3",
      "display_name": "Python 3"
    },
    "language_info": {
      "name": "python"
    }
  },
  "cells": [
    {
      "cell_type": "markdown",
      "metadata": {
        "id": "view-in-github",
        "colab_type": "text"
      },
      "source": [
        "<a href=\"https://colab.research.google.com/github/ATrublie/Summarizing-paragraphs-of-a-given-document-keywords-extraction/blob/main/Keyword_extraction_with_Rake_model.ipynb\" target=\"_parent\"><img src=\"https://colab.research.google.com/assets/colab-badge.svg\" alt=\"Open In Colab\"/></a>"
      ]
    },
    {
      "cell_type": "code",
      "execution_count": null,
      "metadata": {
        "colab": {
          "base_uri": "https://localhost:8080/"
        },
        "id": "wrhTxC60fhDs",
        "outputId": "5403a468-76c1-4ca7-98ce-fffd214dd828"
      },
      "outputs": [
        {
          "name": "stdout",
          "output_type": "stream",
          "text": [
            "Enter your text here:\n",
            "\n",
            "Hotz founded his AI startup, comma.ai, in September 2015.[45] In an interview with Bloomberg, Hotz revealed that the company was building vehicular automation technology based on machine learning algorithms. Hotz built a working self-driving 2016 Acura ILX, which he demonstrated on the I-280 in a video,[4] resulting in a cease and desist letter from the California Department of Motor Vehicles.[46]  Hotz wanted to sell his technology to Tesla Motors, meeting with CEO Elon Musk.[47][48] Hotz claims that Musk offered him $12 million (minus $1 million for every month it took Hotz to work on the task) to create a driving system that could replace the MobilEye solution that Tesla used at the time.[49] Tesla later released a statement on their website citing corrections to the Bloomberg article, stressing that their autopilot system was developed in-house, with a vision chip component from MobilEye, instead of one separate autopilot system manufactured by MobilEye, as suggested by Bloomberg reporter Ashlee Vance.[47] Musk offered advice on Hotz's self-driving car project in a December 2015 interview.[50]  On October 27, 2016, the NHTSA informed Hotz that the product was legally required to comply with Federal Motor Vehicle Safety Standards, and requested information that would confirm such compliance.[51] A day later, George Hotz tweeted from Shenzhen that the comma one was cancelled.[52][53][non-primary source needed] Kristen Lee stated on Jalopnik that the NHTSA was simply trying to open a dialog, and commented: \"Instead, they got the worst attitude possible from Silicon Valley: try and regulate us, thought leaders, and we’ll take our ball and go home.\"[54]  comma.ai open sourced their self driving car software (called openpilot) on November 30, 2016, emphasizing its intended use for research without a warranty.[55][56]\n"
          ]
        }
      ],
      "source": [
        "print(\"Enter your text here:\\n\")    #take input from user\n",
        "text = input() "
      ]
    },
    {
      "cell_type": "code",
      "source": [
        "!pip install multi_rake #install multi_take modul for keyword extraction"
      ],
      "metadata": {
        "colab": {
          "base_uri": "https://localhost:8080/"
        },
        "id": "5XXTU74fflj2",
        "outputId": "64328b7f-0775-4df1-aeef-49371de55a21"
      },
      "execution_count": null,
      "outputs": [
        {
          "output_type": "stream",
          "name": "stdout",
          "text": [
            "Requirement already satisfied: multi_rake in /usr/local/lib/python3.7/dist-packages (0.0.2)\n",
            "Requirement already satisfied: regex>=2018.6.6 in /usr/local/lib/python3.7/dist-packages (from multi_rake) (2019.12.20)\n",
            "Requirement already satisfied: pyrsistent>=0.14.2 in /usr/local/lib/python3.7/dist-packages (from multi_rake) (0.18.1)\n",
            "Requirement already satisfied: pycld2>=0.41 in /usr/local/lib/python3.7/dist-packages (from multi_rake) (0.41)\n",
            "Requirement already satisfied: numpy>=1.14.4 in /usr/local/lib/python3.7/dist-packages (from multi_rake) (1.21.5)\n"
          ]
        }
      ]
    },
    {
      "cell_type": "code",
      "source": [
        "from multi_rake import Rake #apply parametrs such as number of keyword needed to be extracted and etc.\n",
        "rake = Rake()\n",
        "keywords = rake.apply(text)\n",
        "keywords[:10]"
      ],
      "metadata": {
        "colab": {
          "base_uri": "https://localhost:8080/"
        },
        "id": "C90nts5Bfpto",
        "outputId": "dac2d189-349e-4349-c5f0-46e8e53f6662"
      },
      "execution_count": null,
      "outputs": [
        {
          "output_type": "execute_result",
          "data": {
            "text/plain": [
              "[('machine learning algorithms', 9.0),\n",
              " ('vision chip component', 9.0),\n",
              " ('non-primary source needed', 9.0),\n",
              " ('kristen lee stated', 9.0),\n",
              " ('ceo elon musk', 8.666666666666666),\n",
              " ('minus $1 million', 8.5),\n",
              " ('driving car software', 8.5),\n",
              " ('musk offered advice', 8.166666666666666),\n",
              " ('george hotz tweeted', 8.125),\n",
              " ('ai open sourced', 7.5)]"
            ]
          },
          "metadata": {},
          "execution_count": 14
        }
      ]
    },
    {
      "cell_type": "code",
      "source": [
        ""
      ],
      "metadata": {
        "id": "Yx9D_Ev3fzt3"
      },
      "execution_count": null,
      "outputs": []
    }
  ]
}