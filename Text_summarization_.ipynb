{
  "nbformat": 4,
  "nbformat_minor": 0,
  "metadata": {
    "colab": {
      "name": "Text summarization .ipynb",
      "provenance": [],
      "authorship_tag": "ABX9TyMXcIn5jZS5L071edWnqekz",
      "include_colab_link": true
    },
    "kernelspec": {
      "name": "python3",
      "display_name": "Python 3"
    },
    "language_info": {
      "name": "python"
    }
  },
  "cells": [
    {
      "cell_type": "markdown",
      "metadata": {
        "id": "view-in-github",
        "colab_type": "text"
      },
      "source": [
        "<a href=\"https://colab.research.google.com/github/ATrublie/Summarizing-paragraphs-of-a-given-document-keywords-extraction/blob/main/First%20concept%20text%20summarization/Text_summarization_.ipynb\" target=\"_parent\"><img src=\"https://colab.research.google.com/assets/colab-badge.svg\" alt=\"Open In Colab\"/></a>"
      ]
    },
    {
      "cell_type": "code",
      "execution_count": null,
      "metadata": {
        "id": "CbgP_cnVt_MM",
        "colab": {
          "base_uri": "https://localhost:8080/"
        },
        "outputId": "394ef015-9811-4017-c498-1c88cc440512"
      },
      "outputs": [
        {
          "output_type": "stream",
          "name": "stdout",
          "text": [
            "Collecting newspaper3k\n",
            "  Downloading newspaper3k-0.2.8-py3-none-any.whl (211 kB)\n",
            "\u001b[K     |████████████████████████████████| 211 kB 8.5 MB/s \n",
            "\u001b[?25hCollecting jieba3k>=0.35.1\n",
            "  Downloading jieba3k-0.35.1.zip (7.4 MB)\n",
            "\u001b[K     |████████████████████████████████| 7.4 MB 24.0 MB/s \n",
            "\u001b[?25hRequirement already satisfied: Pillow>=3.3.0 in /usr/local/lib/python3.7/dist-packages (from newspaper3k) (7.1.2)\n",
            "Collecting cssselect>=0.9.2\n",
            "  Downloading cssselect-1.1.0-py2.py3-none-any.whl (16 kB)\n",
            "Requirement already satisfied: nltk>=3.2.1 in /usr/local/lib/python3.7/dist-packages (from newspaper3k) (3.2.5)\n",
            "Collecting feedparser>=5.2.1\n",
            "  Downloading feedparser-6.0.8-py3-none-any.whl (81 kB)\n",
            "\u001b[K     |████████████████████████████████| 81 kB 8.4 MB/s \n",
            "\u001b[?25hRequirement already satisfied: python-dateutil>=2.5.3 in /usr/local/lib/python3.7/dist-packages (from newspaper3k) (2.8.2)\n",
            "Collecting tldextract>=2.0.1\n",
            "  Downloading tldextract-3.3.0-py3-none-any.whl (93 kB)\n",
            "\u001b[K     |████████████████████████████████| 93 kB 2.3 MB/s \n",
            "\u001b[?25hRequirement already satisfied: PyYAML>=3.11 in /usr/local/lib/python3.7/dist-packages (from newspaper3k) (3.13)\n",
            "Collecting feedfinder2>=0.0.4\n",
            "  Downloading feedfinder2-0.0.4.tar.gz (3.3 kB)\n",
            "Collecting tinysegmenter==0.3\n",
            "  Downloading tinysegmenter-0.3.tar.gz (16 kB)\n",
            "Requirement already satisfied: beautifulsoup4>=4.4.1 in /usr/local/lib/python3.7/dist-packages (from newspaper3k) (4.6.3)\n",
            "Requirement already satisfied: lxml>=3.6.0 in /usr/local/lib/python3.7/dist-packages (from newspaper3k) (4.2.6)\n",
            "Requirement already satisfied: requests>=2.10.0 in /usr/local/lib/python3.7/dist-packages (from newspaper3k) (2.23.0)\n",
            "Requirement already satisfied: six in /usr/local/lib/python3.7/dist-packages (from feedfinder2>=0.0.4->newspaper3k) (1.15.0)\n",
            "Collecting sgmllib3k\n",
            "  Downloading sgmllib3k-1.0.0.tar.gz (5.8 kB)\n",
            "Requirement already satisfied: certifi>=2017.4.17 in /usr/local/lib/python3.7/dist-packages (from requests>=2.10.0->newspaper3k) (2021.10.8)\n",
            "Requirement already satisfied: urllib3!=1.25.0,!=1.25.1,<1.26,>=1.21.1 in /usr/local/lib/python3.7/dist-packages (from requests>=2.10.0->newspaper3k) (1.24.3)\n",
            "Requirement already satisfied: chardet<4,>=3.0.2 in /usr/local/lib/python3.7/dist-packages (from requests>=2.10.0->newspaper3k) (3.0.4)\n",
            "Requirement already satisfied: idna<3,>=2.5 in /usr/local/lib/python3.7/dist-packages (from requests>=2.10.0->newspaper3k) (2.10)\n",
            "Collecting requests-file>=1.4\n",
            "  Downloading requests_file-1.5.1-py2.py3-none-any.whl (3.7 kB)\n",
            "Requirement already satisfied: filelock>=3.0.8 in /usr/local/lib/python3.7/dist-packages (from tldextract>=2.0.1->newspaper3k) (3.6.0)\n",
            "Building wheels for collected packages: tinysegmenter, feedfinder2, jieba3k, sgmllib3k\n",
            "  Building wheel for tinysegmenter (setup.py) ... \u001b[?25l\u001b[?25hdone\n",
            "  Created wheel for tinysegmenter: filename=tinysegmenter-0.3-py3-none-any.whl size=13553 sha256=320ce43a023ae69ecc462712c63985c047e56de4be9db8a3eeec0731e3db2b3f\n",
            "  Stored in directory: /root/.cache/pip/wheels/df/67/41/faca10fa501ca010be41b49d40360c2959e1c4f09bcbfa37fa\n",
            "  Building wheel for feedfinder2 (setup.py) ... \u001b[?25l\u001b[?25hdone\n",
            "  Created wheel for feedfinder2: filename=feedfinder2-0.0.4-py3-none-any.whl size=3357 sha256=231de04bb5a855ff30267197362601c2ee2662ecef928ae2a9f57c57937e9c03\n",
            "  Stored in directory: /root/.cache/pip/wheels/7f/d4/8f/6e2ca54744c9d7292d88ddb8d42876bcdab5e6d84a21c10346\n",
            "  Building wheel for jieba3k (setup.py) ... \u001b[?25l\u001b[?25hdone\n",
            "  Created wheel for jieba3k: filename=jieba3k-0.35.1-py3-none-any.whl size=7398404 sha256=3acfd4f8e1463e5fc6d40b68799dbfe7be74fdb85d1c2e0ac82ff1da08cfa70b\n",
            "  Stored in directory: /root/.cache/pip/wheels/4c/91/46/3c208287b726df325a5979574324878b679116e4baae1af3c3\n",
            "  Building wheel for sgmllib3k (setup.py) ... \u001b[?25l\u001b[?25hdone\n",
            "  Created wheel for sgmllib3k: filename=sgmllib3k-1.0.0-py3-none-any.whl size=6066 sha256=1d7e96f517e331cc28baf0b8acbe0c38a9f6f32669f0339ba50118d70765170f\n",
            "  Stored in directory: /root/.cache/pip/wheels/73/ad/a4/0dff4a6ef231fc0dfa12ffbac2a36cebfdddfe059f50e019aa\n",
            "Successfully built tinysegmenter feedfinder2 jieba3k sgmllib3k\n",
            "Installing collected packages: sgmllib3k, requests-file, tldextract, tinysegmenter, jieba3k, feedparser, feedfinder2, cssselect, newspaper3k\n",
            "Successfully installed cssselect-1.1.0 feedfinder2-0.0.4 feedparser-6.0.8 jieba3k-0.35.1 newspaper3k-0.2.8 requests-file-1.5.1 sgmllib3k-1.0.0 tinysegmenter-0.3 tldextract-3.3.0\n"
          ]
        }
      ],
      "source": [
        "!pip3 install newspaper3k"
      ]
    },
    {
      "cell_type": "code",
      "source": [
        "from newspaper import Article\n",
        "\n",
        "url = 'https://www.sciencedaily.com/releases/2022/04/220408083901.htm'\n",
        "article = Article(url)\n",
        "article.download()\n",
        "article.parse()"
      ],
      "metadata": {
        "id": "YZBnutZzueOL"
      },
      "execution_count": null,
      "outputs": []
    },
    {
      "cell_type": "code",
      "source": [
        "article.text"
      ],
      "metadata": {
        "id": "nisehlcNuJqK",
        "colab": {
          "base_uri": "https://localhost:8080/",
          "height": 439
        },
        "outputId": "c4ae9fe6-166c-4e55-db37-f353eabd709f"
      },
      "execution_count": null,
      "outputs": [
        {
          "output_type": "execute_result",
          "data": {
            "text/plain": [
              "'Research from the Babraham Institute has developed a method to \\'time jump\\' human skin cells by 30 years, turning back the ageing clock for cells without losing their specialised function. Work by researchers in the Institute\\'s Epigenetics research programme has been able to partly restore the function of older cells, as well as rejuvenating the molecular measures of biological age. The research is published today in the journal eLife and whilst at an early stage of exploration, it could revolutionise regenerative medicine.\\n\\nWhat is regenerative medicine?\\n\\nAs we age, our cells\\' ability to function declines and the genome accumulates marks of ageing. Regenerative biology aims to repair or replace cells including old ones. One of the most important tools in regenerative biology is our ability to create \\'induced\\' stem cells. The process is a result of several steps, each erasing some of the marks that make cells specialised. In theory, these stem cells have the potential to become any cell type, but scientists aren\\'t yet able to reliably recreate the conditions to re-differentiate stem cells into all cell types.\\n\\nTurning back time\\n\\nThe new method, based on the Nobel Prize winning technique scientists use to make stem cells, overcomes the problem of entirely erasing cell identity by halting reprogramming part of the way through the process. This allowed researchers to find the precise balance between reprogramming cells, making them biologically younger, while still being able to regain their specialised cell function.\\n\\nIn 2007, Shinya Yamanaka was the first scientist to turn normal cells, which have a specific function, into stem cells which have the special ability to develop into any cell type. The full process of stem cell reprogramming takes around 50 days using four key molecules called the Yamanaka factors. The new method, called \\'maturation phase transient reprogramming\\', exposes cells to Yamanaka factors for just 13 days. At this point, age-related changes are removed and the cells have temporarily lost their identity. The partly reprogrammed cells were given time to grow under normal conditions, to observe whether their specific skin cell function returned. Genome analysis showed that cells had regained markers characteristic of skin cells (fibroblasts), and this was confirmed by observing collagen production in the reprogrammed cells.\\n\\nadvertisement\\n\\nAge isn\\'t just a number\\n\\nTo show that the cells had been rejuvenated, the researchers looked for changes in the hallmarks of ageing. As explained by Dr Diljeet Gill, a postdoc in Wolf Reik\\'s lab at the Institute who conducted the work as a PhD student: \"Our understanding of ageing on a molecular level has progressed over the last decade, giving rise to techniques that allow researchers to measure age-related biological changes in human cells. We were able to apply this to our experiment to determine the extent of reprogramming our new method achieved.\"\\n\\nResearchers looked at multiple measures of cellular age. The first is the epigenetic clock, where chemical tags present throughout the genome indicate age. The second is the transcriptome, all the gene readouts produced by the cell. By these two measures, the reprogrammed cells matched the profile of cells that were 30 years younger compared to reference data sets.\\n\\nThe potential applications of this technique are dependent on the cells not only appearing younger, but functioning like young cells too. Fibroblasts produce collagen, a molecule found in bones, skin tendons and ligaments, helping provide structure to tissues and heal wounds. The rejuvenated fibroblasts produced more collagen proteins compared to control cells that did not undergo the reprogramming process. Fibroblasts also move into areas that need repairing. Researchers tested the partially rejuvenated cells by creating an artificial cut in a layer of cells in a dish. They found that their treated fibroblasts moved into the gap faster than older cells. This is a promising sign that one day this research could eventually be used to create cells that are better at healing wounds.\\n\\nIn the future, this research may also open up other therapeutic possibilities; the researchers observed that their method also had an effect on other genes linked to age-related diseases and symptoms. The APBA2 gene, associated with Alzheimer\\'s disease, and the MAF gene with a role in the development of cataracts, both showed changes towards youthful levels of transcription.\\n\\nThe mechanism behind the successful transient reprogramming is not yet fully understood, and is the next piece of the puzzle to explore. The researchers speculate that key areas of the genome involved in shaping cell identity might escape the reprogramming process.\\n\\nDiljeet concluded: \"Our results represent a big step forward in our understanding of cell reprogramming. We have proved that cells can be rejuvenated without losing their function and that rejuvenation looks to restore some function to old cells. The fact that we also saw a reverse of ageing indicators in genes associated with diseases is particularly promising for the future of this work.\"\\n\\nProfessor Wolf Reik, a group leader in the Epigenetics research programme who has recently moved to lead the Altos Labs Cambridge Institute, said: \"This work has very exciting implications. Eventually, we may be able to identify genes that rejuvenate without reprogramming, and specifically target those to reduce the effects of ageing. This approach holds promise for valuable discoveries that could open up an amazing therapeutic horizon.\"'"
            ],
            "application/vnd.google.colaboratory.intrinsic+json": {
              "type": "string"
            }
          },
          "metadata": {},
          "execution_count": 4
        }
      ]
    },
    {
      "cell_type": "code",
      "source": [
        "!pip install PyPDF2"
      ],
      "metadata": {
        "colab": {
          "base_uri": "https://localhost:8080/"
        },
        "id": "cYYiHePUhapb",
        "outputId": "f56a38a8-ebce-463b-908c-4f154254200a"
      },
      "execution_count": null,
      "outputs": [
        {
          "output_type": "stream",
          "name": "stdout",
          "text": [
            "Collecting PyPDF2\n",
            "  Downloading PyPDF2-1.27.12-py3-none-any.whl (80 kB)\n",
            "\u001b[K     |████████████████████████████████| 80 kB 4.9 MB/s \n",
            "\u001b[?25hInstalling collected packages: PyPDF2\n",
            "Successfully installed PyPDF2-1.27.12\n"
          ]
        }
      ]
    },
    {
      "cell_type": "code",
      "source": [
        "from PyPDF2 import PdfFileReader\n",
        "\n",
        "reader = PdfFileReader(\"/content/Machine Learning For Absolute Beginners.pdf\")\n",
        "number_of_pages = reader.numPages\n",
        "page = reader.pages[0]\n",
        "text = page.extractText()"
      ],
      "metadata": {
        "id": "QkdgfjYFheXg"
      },
      "execution_count": null,
      "outputs": []
    },
    {
      "cell_type": "code",
      "source": [
        "print(text)"
      ],
      "metadata": {
        "colab": {
          "base_uri": "https://localhost:8080/"
        },
        "id": "CsADsNMe_Is5",
        "outputId": "d01eb860-4f19-4c36-a494-21f769d7af47"
      },
      "execution_count": null,
      "outputs": [
        {
          "output_type": "stream",
          "name": "stdout",
          "text": [
            "\n"
          ]
        }
      ]
    },
    {
      "cell_type": "code",
      "source": [
        "import PyPDF2\n",
        "pdf_file = open(\"/content/Machine Learning For Absolute Beginners.pdf\", 'rb')\n",
        "read_pdf = PyPDF2.PdfFileReader(pdf_file)\n",
        "number_of_pages = read_pdf.getNumPages()\n",
        "page = read_pdf.getPage(0)\n",
        "page_content = page.extractText()\n",
        "print(page_content.encode('utf-8'))"
      ],
      "metadata": {
        "colab": {
          "base_uri": "https://localhost:8080/"
        },
        "id": "IYeJp2J-_tem",
        "outputId": "e2ef6de1-9e4f-4098-87ec-e07aac495097"
      },
      "execution_count": null,
      "outputs": [
        {
          "output_type": "stream",
          "name": "stdout",
          "text": [
            "b''\n"
          ]
        }
      ]
    },
    {
      "cell_type": "code",
      "source": [
        "import PyPDF2\n",
        "\n",
        "reader = PyPDF2.PdfFileReader(\"example.pdf\")\n",
        "writer = PyPDF2.PdfFileWriter()\n",
        "\n",
        "for page in reader.pages:\n",
        "    writer.addPage(page)\n",
        "\n",
        "writer.removeImages()\n",
        "\n",
        "with open(\"out.pdf\", \"wb\") as f:\n",
        "    writer.write(f)"
      ],
      "metadata": {
        "id": "t3D7POZmhujx"
      },
      "execution_count": null,
      "outputs": []
    },
    {
      "cell_type": "code",
      "source": [
        "import PyPDF2\n",
        "\n",
        "reader = PyPDF2.PdfFileReader(\"example.pdf\")\n",
        "writer = PyPDF2.PdfFileWriter()\n",
        "\n",
        "for page in reader.pages:\n",
        "    page.compressContentStreams()\n",
        "    writer.addPage(page)\n",
        "\n",
        "with open(\"out.pdf\", \"wb\") as f:\n",
        "    writer.write(f)"
      ],
      "metadata": {
        "id": "gzmdCnlzhw8s"
      },
      "execution_count": null,
      "outputs": []
    },
    {
      "cell_type": "code",
      "source": [
        "import spacy\n",
        "from spacy.lang.en.stop_words import STOP_WORDS\n",
        "from string import punctuation\n",
        "from heapq import nlargest"
      ],
      "metadata": {
        "id": "6tkJRScuxpX5"
      },
      "execution_count": null,
      "outputs": []
    },
    {
      "cell_type": "code",
      "source": [
        "def summarize(text, per):\n",
        "    nlp = spacy.load('en_core_web_sm')\n",
        "    doc= nlp(text)\n",
        "    tokens=[token.text for token in doc]\n",
        "    word_frequencies={}\n",
        "    for word in doc:\n",
        "        if word.text.lower() not in list(STOP_WORDS):\n",
        "            if word.text.lower() not in punctuation:\n",
        "                if word.text not in word_frequencies.keys():\n",
        "                    word_frequencies[word.text] = 1\n",
        "                else:\n",
        "                    word_frequencies[word.text] += 1\n",
        "    max_frequency=max(word_frequencies.values())\n",
        "    for word in word_frequencies.keys():\n",
        "        word_frequencies[word]=word_frequencies[word]/max_frequency\n",
        "    sentence_tokens= [sent for sent in doc.sents]\n",
        "    sentence_scores = {}\n",
        "    for sent in sentence_tokens:\n",
        "        for word in sent:\n",
        "            if word.text.lower() in word_frequencies.keys():\n",
        "                if sent not in sentence_scores.keys():                            \n",
        "                    sentence_scores[sent]=word_frequencies[word.text.lower()]\n",
        "                else:\n",
        "                    sentence_scores[sent]+=word_frequencies[word.text.lower()]\n",
        "    select_length=int(len(sentence_tokens)*per)\n",
        "    summary=nlargest(select_length, sentence_scores,key=sentence_scores.get)\n",
        "    final_summary=[word.text for word in summary]\n",
        "    summary=''.join(final_summary)\n",
        "    return summary"
      ],
      "metadata": {
        "id": "zBFV8n6YyghR"
      },
      "execution_count": null,
      "outputs": []
    },
    {
      "cell_type": "code",
      "source": [
        "summarize(article.text, 0.20)"
      ],
      "metadata": {
        "colab": {
          "base_uri": "https://localhost:8080/",
          "height": 127
        },
        "id": "rm7c_OJ-yixI",
        "outputId": "058f46ff-af9b-479f-e5c2-aa6d640028ad"
      },
      "execution_count": null,
      "outputs": [
        {
          "output_type": "execute_result",
          "data": {
            "text/plain": [
              "\"Genome analysis showed that cells had regained markers characteristic of skin cells (fibroblasts), and this was confirmed by observing collagen production in the reprogrammed cells.\\n\\nIn theory, these stem cells have the potential to become any cell type, but scientists aren't yet able to reliably recreate the conditions to re-differentiate stem cells into all cell types.\\n\\nResearch from the Babraham Institute has developed a method to 'time jump' human skin cells by 30 years, turning back the ageing clock for cells without losing their specialised function.In 2007, Shinya Yamanaka was the first scientist to turn normal cells, which have a specific function, into stem cells which have the special ability to develop into any cell type.This allowed researchers to find the precise balance between reprogramming cells, making them biologically younger, while still being able to regain their specialised cell function.\\n\\nBy these two measures, the reprogrammed cells matched the profile of cells that were 30 years younger compared to reference data sets.\\n\\nWe have proved that cells can be rejuvenated without losing their function and that rejuvenation looks to restore some function to old cells.The new method, based on the Nobel Prize winning technique scientists use to make stem cells, overcomes the problem of entirely erasing cell identity by halting reprogramming part of the way through the process.\""
            ],
            "application/vnd.google.colaboratory.intrinsic+json": {
              "type": "string"
            }
          },
          "metadata": {},
          "execution_count": 10
        }
      ]
    },
    {
      "cell_type": "code",
      "source": [
        ""
      ],
      "metadata": {
        "id": "Y269qGVj7-IH"
      },
      "execution_count": null,
      "outputs": []
    }
  ]
}